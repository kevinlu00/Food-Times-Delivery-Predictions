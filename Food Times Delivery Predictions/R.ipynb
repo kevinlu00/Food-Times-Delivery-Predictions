{
 "cells": [
  {
   "cell_type": "markdown",
   "metadata": {},
   "source": [
    "Enhancing Food Delivery Services: A Predictive Model for Accurate Delivery Time Estimation\n",
    "\n",
    "Regression with R"
   ]
  },
  {
   "cell_type": "code",
   "execution_count": 52,
   "metadata": {
    "vscode": {
     "languageId": "r"
    }
   },
   "outputs": [
    {
     "name": "stderr",
     "output_type": "stream",
     "text": [
      "Warning message:\n",
      "\"package 'ggplot2' is in use and will not be installed\"\n"
     ]
    }
   ],
   "source": [
    "install.packages('ggplot2')"
   ]
  },
  {
   "cell_type": "code",
   "execution_count": 53,
   "metadata": {
    "vscode": {
     "languageId": "r"
    }
   },
   "outputs": [],
   "source": [
    "library(ggplot2)"
   ]
  },
  {
   "cell_type": "code",
   "execution_count": 54,
   "metadata": {
    "vscode": {
     "languageId": "r"
    }
   },
   "outputs": [
    {
     "data": {
      "text/html": [
       "<table class=\"dataframe\">\n",
       "<caption>A data.frame: 6 × 8</caption>\n",
       "<thead>\n",
       "\t<tr><th></th><th scope=col>Distance_km</th><th scope=col>Weather</th><th scope=col>Traffic_Level</th><th scope=col>Time_of_Day</th><th scope=col>Vehicle_Type</th><th scope=col>Preparation_Time_min</th><th scope=col>Courier_Experience_yrs</th><th scope=col>Time_Delivery</th></tr>\n",
       "\t<tr><th></th><th scope=col>&lt;dbl&gt;</th><th scope=col>&lt;chr&gt;</th><th scope=col>&lt;chr&gt;</th><th scope=col>&lt;chr&gt;</th><th scope=col>&lt;chr&gt;</th><th scope=col>&lt;int&gt;</th><th scope=col>&lt;int&gt;</th><th scope=col>&lt;int&gt;</th></tr>\n",
       "</thead>\n",
       "<tbody>\n",
       "\t<tr><th scope=row>1</th><td> 7.93</td><td>Windy</td><td>Low   </td><td>Afternoon</td><td>Scooter</td><td>12</td><td>1</td><td>43</td></tr>\n",
       "\t<tr><th scope=row>2</th><td>16.42</td><td>Clear</td><td>Medium</td><td>Evening  </td><td>Bike   </td><td>20</td><td>2</td><td>84</td></tr>\n",
       "\t<tr><th scope=row>3</th><td> 9.52</td><td>Foggy</td><td>Low   </td><td>Night    </td><td>Scooter</td><td>28</td><td>1</td><td>59</td></tr>\n",
       "\t<tr><th scope=row>4</th><td> 7.44</td><td>Rainy</td><td>Medium</td><td>Afternoon</td><td>Scooter</td><td> 5</td><td>1</td><td>37</td></tr>\n",
       "\t<tr><th scope=row>5</th><td>19.03</td><td>Clear</td><td>Low   </td><td>Morning  </td><td>Bike   </td><td>16</td><td>5</td><td>68</td></tr>\n",
       "\t<tr><th scope=row>6</th><td>19.40</td><td>Clear</td><td>Low   </td><td>Evening  </td><td>Scooter</td><td> 8</td><td>9</td><td>57</td></tr>\n",
       "</tbody>\n",
       "</table>\n"
      ],
      "text/latex": [
       "A data.frame: 6 × 8\n",
       "\\begin{tabular}{r|llllllll}\n",
       "  & Distance\\_km & Weather & Traffic\\_Level & Time\\_of\\_Day & Vehicle\\_Type & Preparation\\_Time\\_min & Courier\\_Experience\\_yrs & Time\\_Delivery\\\\\n",
       "  & <dbl> & <chr> & <chr> & <chr> & <chr> & <int> & <int> & <int>\\\\\n",
       "\\hline\n",
       "\t1 &  7.93 & Windy & Low    & Afternoon & Scooter & 12 & 1 & 43\\\\\n",
       "\t2 & 16.42 & Clear & Medium & Evening   & Bike    & 20 & 2 & 84\\\\\n",
       "\t3 &  9.52 & Foggy & Low    & Night     & Scooter & 28 & 1 & 59\\\\\n",
       "\t4 &  7.44 & Rainy & Medium & Afternoon & Scooter &  5 & 1 & 37\\\\\n",
       "\t5 & 19.03 & Clear & Low    & Morning   & Bike    & 16 & 5 & 68\\\\\n",
       "\t6 & 19.40 & Clear & Low    & Evening   & Scooter &  8 & 9 & 57\\\\\n",
       "\\end{tabular}\n"
      ],
      "text/markdown": [
       "\n",
       "A data.frame: 6 × 8\n",
       "\n",
       "| <!--/--> | Distance_km &lt;dbl&gt; | Weather &lt;chr&gt; | Traffic_Level &lt;chr&gt; | Time_of_Day &lt;chr&gt; | Vehicle_Type &lt;chr&gt; | Preparation_Time_min &lt;int&gt; | Courier_Experience_yrs &lt;int&gt; | Time_Delivery &lt;int&gt; |\n",
       "|---|---|---|---|---|---|---|---|---|\n",
       "| 1 |  7.93 | Windy | Low    | Afternoon | Scooter | 12 | 1 | 43 |\n",
       "| 2 | 16.42 | Clear | Medium | Evening   | Bike    | 20 | 2 | 84 |\n",
       "| 3 |  9.52 | Foggy | Low    | Night     | Scooter | 28 | 1 | 59 |\n",
       "| 4 |  7.44 | Rainy | Medium | Afternoon | Scooter |  5 | 1 | 37 |\n",
       "| 5 | 19.03 | Clear | Low    | Morning   | Bike    | 16 | 5 | 68 |\n",
       "| 6 | 19.40 | Clear | Low    | Evening   | Scooter |  8 | 9 | 57 |\n",
       "\n"
      ],
      "text/plain": [
       "  Distance_km Weather Traffic_Level Time_of_Day Vehicle_Type\n",
       "1  7.93       Windy   Low           Afternoon   Scooter     \n",
       "2 16.42       Clear   Medium        Evening     Bike        \n",
       "3  9.52       Foggy   Low           Night       Scooter     \n",
       "4  7.44       Rainy   Medium        Afternoon   Scooter     \n",
       "5 19.03       Clear   Low           Morning     Bike        \n",
       "6 19.40       Clear   Low           Evening     Scooter     \n",
       "  Preparation_Time_min Courier_Experience_yrs Time_Delivery\n",
       "1 12                   1                      43           \n",
       "2 20                   2                      84           \n",
       "3 28                   1                      59           \n",
       "4  5                   1                      37           \n",
       "5 16                   5                      68           \n",
       "6  8                   9                      57           "
      ]
     },
     "metadata": {},
     "output_type": "display_data"
    }
   ],
   "source": [
    "data <- read.csv('C:/Users/lusic/OneDrive/Documents/Food Times Delivery Predictions/Clean_Data_latest_updates.csv')\n",
    "head(data)\n",
    "# Uploading the data to R and checking making sure the data is uploaded properly"
   ]
  },
  {
   "cell_type": "code",
   "execution_count": null,
   "metadata": {
    "vscode": {
     "languageId": "r"
    }
   },
   "outputs": [
    {
     "name": "stdout",
     "output_type": "stream",
     "text": [
      "'data.frame':\t970 obs. of  8 variables:\n",
      " $ Distance_km           : num  7.93 16.42 9.52 7.44 19.03 ...\n",
      " $ Weather               : chr  \"Windy\" \"Clear\" \"Foggy\" \"Rainy\" ...\n",
      " $ Traffic_Level         : chr  \"Low\" \"Medium\" \"Low\" \"Medium\" ...\n",
      " $ Time_of_Day           : chr  \"Afternoon\" \"Evening\" \"Night\" \"Afternoon\" ...\n",
      " $ Vehicle_Type          : chr  \"Scooter\" \"Bike\" \"Scooter\" \"Scooter\" ...\n",
      " $ Preparation_Time_min  : int  12 20 28 5 16 8 12 5 20 29 ...\n",
      " $ Courier_Experience_yrs: int  1 2 1 1 5 9 1 6 6 1 ...\n",
      " $ Time_Delivery         : int  43 84 59 37 68 57 49 46 35 73 ...\n"
     ]
    },
    {
     "data": {
      "text/html": [
       "<table class=\"dataframe\">\n",
       "<caption>A data.frame: 6 × 8</caption>\n",
       "<thead>\n",
       "\t<tr><th></th><th scope=col>Distance_km</th><th scope=col>Weather</th><th scope=col>Traffic_Level</th><th scope=col>Time_of_Day</th><th scope=col>Vehicle_Type</th><th scope=col>Preparation_Time_min</th><th scope=col>Courier_Experience_yrs</th><th scope=col>Time_Delivery</th></tr>\n",
       "\t<tr><th></th><th scope=col>&lt;dbl&gt;</th><th scope=col>&lt;dbl&gt;</th><th scope=col>&lt;dbl&gt;</th><th scope=col>&lt;dbl&gt;</th><th scope=col>&lt;dbl&gt;</th><th scope=col>&lt;dbl&gt;</th><th scope=col>&lt;dbl&gt;</th><th scope=col>&lt;dbl&gt;</th></tr>\n",
       "</thead>\n",
       "<tbody>\n",
       "\t<tr><th scope=row>1</th><td>307</td><td>6</td><td>2</td><td>1</td><td>3</td><td> 8</td><td> 2</td><td>32</td></tr>\n",
       "\t<tr><th scope=row>2</th><td>630</td><td>1</td><td>3</td><td>2</td><td>1</td><td>16</td><td> 3</td><td>73</td></tr>\n",
       "\t<tr><th scope=row>3</th><td>365</td><td>2</td><td>2</td><td>4</td><td>3</td><td>24</td><td> 2</td><td>48</td></tr>\n",
       "\t<tr><th scope=row>4</th><td>283</td><td>3</td><td>3</td><td>1</td><td>3</td><td> 1</td><td> 2</td><td>26</td></tr>\n",
       "\t<tr><th scope=row>5</th><td>737</td><td>1</td><td>2</td><td>3</td><td>1</td><td>12</td><td> 6</td><td>57</td></tr>\n",
       "\t<tr><th scope=row>6</th><td>749</td><td>1</td><td>2</td><td>2</td><td>3</td><td> 4</td><td>10</td><td>46</td></tr>\n",
       "</tbody>\n",
       "</table>\n"
      ],
      "text/latex": [
       "A data.frame: 6 × 8\n",
       "\\begin{tabular}{r|llllllll}\n",
       "  & Distance\\_km & Weather & Traffic\\_Level & Time\\_of\\_Day & Vehicle\\_Type & Preparation\\_Time\\_min & Courier\\_Experience\\_yrs & Time\\_Delivery\\\\\n",
       "  & <dbl> & <dbl> & <dbl> & <dbl> & <dbl> & <dbl> & <dbl> & <dbl>\\\\\n",
       "\\hline\n",
       "\t1 & 307 & 6 & 2 & 1 & 3 &  8 &  2 & 32\\\\\n",
       "\t2 & 630 & 1 & 3 & 2 & 1 & 16 &  3 & 73\\\\\n",
       "\t3 & 365 & 2 & 2 & 4 & 3 & 24 &  2 & 48\\\\\n",
       "\t4 & 283 & 3 & 3 & 1 & 3 &  1 &  2 & 26\\\\\n",
       "\t5 & 737 & 1 & 2 & 3 & 1 & 12 &  6 & 57\\\\\n",
       "\t6 & 749 & 1 & 2 & 2 & 3 &  4 & 10 & 46\\\\\n",
       "\\end{tabular}\n"
      ],
      "text/markdown": [
       "\n",
       "A data.frame: 6 × 8\n",
       "\n",
       "| <!--/--> | Distance_km &lt;dbl&gt; | Weather &lt;dbl&gt; | Traffic_Level &lt;dbl&gt; | Time_of_Day &lt;dbl&gt; | Vehicle_Type &lt;dbl&gt; | Preparation_Time_min &lt;dbl&gt; | Courier_Experience_yrs &lt;dbl&gt; | Time_Delivery &lt;dbl&gt; |\n",
       "|---|---|---|---|---|---|---|---|---|\n",
       "| 1 | 307 | 6 | 2 | 1 | 3 |  8 |  2 | 32 |\n",
       "| 2 | 630 | 1 | 3 | 2 | 1 | 16 |  3 | 73 |\n",
       "| 3 | 365 | 2 | 2 | 4 | 3 | 24 |  2 | 48 |\n",
       "| 4 | 283 | 3 | 3 | 1 | 3 |  1 |  2 | 26 |\n",
       "| 5 | 737 | 1 | 2 | 3 | 1 | 12 |  6 | 57 |\n",
       "| 6 | 749 | 1 | 2 | 2 | 3 |  4 | 10 | 46 |\n",
       "\n"
      ],
      "text/plain": [
       "  Distance_km Weather Traffic_Level Time_of_Day Vehicle_Type\n",
       "1 307         6       2             1           3           \n",
       "2 630         1       3             2           1           \n",
       "3 365         2       2             4           3           \n",
       "4 283         3       3             1           3           \n",
       "5 737         1       2             3           1           \n",
       "6 749         1       2             2           3           \n",
       "  Preparation_Time_min Courier_Experience_yrs Time_Delivery\n",
       "1  8                    2                     32           \n",
       "2 16                    3                     73           \n",
       "3 24                    2                     48           \n",
       "4  1                    2                     26           \n",
       "5 12                    6                     57           \n",
       "6  4                   10                     46           "
      ]
     },
     "metadata": {},
     "output_type": "display_data"
    }
   ],
   "source": [
    "str(data)\n",
    "data$Weather <- (as.numeric(factor(data$Weather)))\n",
    "data$Traffic_Level <- (as.numeric(factor(data$Traffic_Level)))\n",
    "data$Time_of_Day <- (as.numeric(factor(data$Time_of_Day)))\n",
    "data$Vehicle_Type <- (as.numeric(factor(data$Vehicle_Type)))\n",
    "data$Time_Delivery <- (as.numeric(factor(data$Time_Delivery)))\n",
    "data$Courier_Experience_yrs <- (as.numeric(factor(data$Courier_Experience_yrs)))\n",
    "data$Preparation_Time_min <- (as.numeric(factor(data$Preparation_Time_min)))\n",
    "data$Distance_km <- (as.numeric(factor(data$Distance_km)))\n",
    "# Most of the data are string so it will convert from string to numeric for regression\n",
    "# Check the result\n",
    "head(data)"
   ]
  },
  {
   "cell_type": "code",
   "execution_count": 56,
   "metadata": {
    "vscode": {
     "languageId": "r"
    }
   },
   "outputs": [
    {
     "data": {
      "text/plain": [
       "\n",
       "Call:\n",
       "lm(formula = Time_Delivery ~ Distance_km + Weather + Traffic_Level + \n",
       "    Time_of_Day + Vehicle_Type + Preparation_Time_min + Courier_Experience_yrs, \n",
       "    data = data)\n",
       "\n",
       "Residuals:\n",
       "    Min      1Q  Median      3Q     Max \n",
       "-26.691  -6.220  -0.908   4.424  65.567 \n",
       "\n",
       "Coefficients:\n",
       "                        Estimate Std. Error t value Pr(>|t|)    \n",
       "(Intercept)             8.529031   1.997364   4.270 2.15e-05 ***\n",
       "Distance_km             0.076485   0.001623  47.133  < 2e-16 ***\n",
       "Weather                 1.189342   0.218161   5.452 6.34e-08 ***\n",
       "Traffic_Level          -1.721697   0.447934  -3.844 0.000129 ***\n",
       "Time_of_Day             0.049122   0.339761   0.145 0.885074    \n",
       "Vehicle_Type           -0.290195   0.412998  -0.703 0.482441    \n",
       "Preparation_Time_min    0.958519   0.049947  19.191  < 2e-16 ***\n",
       "Courier_Experience_yrs -0.597579   0.123694  -4.831 1.58e-06 ***\n",
       "---\n",
       "Signif. codes:  0 '***' 0.001 '**' 0.01 '*' 0.05 '.' 0.1 ' ' 1\n",
       "\n",
       "Residual standard error: 11.18 on 962 degrees of freedom\n",
       "Multiple R-squared:  0.7352,\tAdjusted R-squared:  0.7333 \n",
       "F-statistic: 381.6 on 7 and 962 DF,  p-value: < 2.2e-16\n"
      ]
     },
     "metadata": {},
     "output_type": "display_data"
    }
   ],
   "source": [
    "model_test <- lm(Time_Delivery ~ Distance_km + Weather + Traffic_Level + Time_of_Day + Vehicle_Type + Preparation_Time_min + Courier_Experience_yrs, data = data)\n",
    "summary(model_test)\n",
    "# Regression Part One"
   ]
  },
  {
   "cell_type": "markdown",
   "metadata": {},
   "source": [
    "Regress Equation:\n",
    "\n",
    "Time_Delivery = 𝜷𝟎+ 𝜷𝟏(Distance_km) + 𝜷𝟐 (Weather)+ 𝜷𝟑(Traffic_Level) + 𝜷𝟒(Time_of_Day) + 𝜷𝟓\n",
    "(Vehicle_Type) + 𝜷𝟔 (Preparation_Time_min) +\n",
    "𝜷𝟕(Courier_Experience_yrs)\n",
    "\n"
   ]
  },
  {
   "cell_type": "markdown",
   "metadata": {},
   "source": [
    "Based on this regression, it is showing better model fit with RSE = 11.18, R-Squared = 0.7352, and Adjusted R-Squared = 0.7333. It is highly significant as shown with F-Test = 381.16 and P-Value < 2.2e-16. Degree of Freedom have 7 predictors and intercept. Based on the 7 Predictors, Distance_km is the most significant due to higher T-value."
   ]
  },
  {
   "cell_type": "code",
   "execution_count": 35,
   "metadata": {
    "vscode": {
     "languageId": "r"
    }
   },
   "outputs": [
    {
     "data": {
      "text/html": [
       "<table class=\"dataframe\">\n",
       "<caption>A matrix: 8 × 2 of type dbl</caption>\n",
       "<thead>\n",
       "\t<tr><th></th><th scope=col>2.5 %</th><th scope=col>97.5 %</th></tr>\n",
       "</thead>\n",
       "<tbody>\n",
       "\t<tr><th scope=row>(Intercept)</th><td> 4.60933790</td><td>12.44872413</td></tr>\n",
       "\t<tr><th scope=row>Distance_km</th><td> 0.07330084</td><td> 0.07966993</td></tr>\n",
       "\t<tr><th scope=row>Weather</th><td> 0.76121530</td><td> 1.61746957</td></tr>\n",
       "\t<tr><th scope=row>Traffic_Level</th><td>-2.60073670</td><td>-0.84265670</td></tr>\n",
       "\t<tr><th scope=row>Time_of_Day</th><td>-0.61763666</td><td> 0.71588084</td></tr>\n",
       "\t<tr><th scope=row>Vehicle_Type</th><td>-1.10067592</td><td> 0.52028595</td></tr>\n",
       "\t<tr><th scope=row>Preparation_Time_min</th><td> 0.86050231</td><td> 1.05653621</td></tr>\n",
       "\t<tr><th scope=row>Courier_Experience_yrs</th><td>-0.84031965</td><td>-0.35483770</td></tr>\n",
       "</tbody>\n",
       "</table>\n"
      ],
      "text/latex": [
       "A matrix: 8 × 2 of type dbl\n",
       "\\begin{tabular}{r|ll}\n",
       "  & 2.5 \\% & 97.5 \\%\\\\\n",
       "\\hline\n",
       "\t(Intercept) &  4.60933790 & 12.44872413\\\\\n",
       "\tDistance\\_km &  0.07330084 &  0.07966993\\\\\n",
       "\tWeather &  0.76121530 &  1.61746957\\\\\n",
       "\tTraffic\\_Level & -2.60073670 & -0.84265670\\\\\n",
       "\tTime\\_of\\_Day & -0.61763666 &  0.71588084\\\\\n",
       "\tVehicle\\_Type & -1.10067592 &  0.52028595\\\\\n",
       "\tPreparation\\_Time\\_min &  0.86050231 &  1.05653621\\\\\n",
       "\tCourier\\_Experience\\_yrs & -0.84031965 & -0.35483770\\\\\n",
       "\\end{tabular}\n"
      ],
      "text/markdown": [
       "\n",
       "A matrix: 8 × 2 of type dbl\n",
       "\n",
       "| <!--/--> | 2.5 % | 97.5 % |\n",
       "|---|---|---|\n",
       "| (Intercept) |  4.60933790 | 12.44872413 |\n",
       "| Distance_km |  0.07330084 |  0.07966993 |\n",
       "| Weather |  0.76121530 |  1.61746957 |\n",
       "| Traffic_Level | -2.60073670 | -0.84265670 |\n",
       "| Time_of_Day | -0.61763666 |  0.71588084 |\n",
       "| Vehicle_Type | -1.10067592 |  0.52028595 |\n",
       "| Preparation_Time_min |  0.86050231 |  1.05653621 |\n",
       "| Courier_Experience_yrs | -0.84031965 | -0.35483770 |\n",
       "\n"
      ],
      "text/plain": [
       "                       2.5 %       97.5 %     \n",
       "(Intercept)             4.60933790 12.44872413\n",
       "Distance_km             0.07330084  0.07966993\n",
       "Weather                 0.76121530  1.61746957\n",
       "Traffic_Level          -2.60073670 -0.84265670\n",
       "Time_of_Day            -0.61763666  0.71588084\n",
       "Vehicle_Type           -1.10067592  0.52028595\n",
       "Preparation_Time_min    0.86050231  1.05653621\n",
       "Courier_Experience_yrs -0.84031965 -0.35483770"
      ]
     },
     "metadata": {},
     "output_type": "display_data"
    }
   ],
   "source": [
    "conf_intervals <- confint(model_test, level = 0.95)\n",
    "conf_intervals\n",
    "# Conducting 95% Confidence Interval to see which predictors are more significant or not."
   ]
  },
  {
   "cell_type": "markdown",
   "metadata": {},
   "source": [
    "Based on this results, it shows all are significant except Time_of_Day and Vehicle_Type who are not significant to the Time Delivery."
   ]
  },
  {
   "cell_type": "code",
   "execution_count": null,
   "metadata": {
    "vscode": {
     "languageId": "r"
    }
   },
   "outputs": [
    {
     "data": {
      "text/plain": [
       "NULL"
      ]
     },
     "metadata": {},
     "output_type": "display_data"
    },
    {
     "data": {
      "image/png": "[encoded data removed]",
      "text/plain": [
       "plot without title"
      ]
     },
     "metadata": {
      "image/png": {
       "height": 420,
       "width": 420
      }
     },
     "output_type": "display_data"
    }
   ],
   "source": [
    "(plot(model_test$residuals))\n",
    "# Showing the residuals graph from Regression Part One"
   ]
  },
  {
   "cell_type": "markdown",
   "metadata": {},
   "source": [
    "In this residual graph, it shows that most residuals cluster between -20 and 60 with most of them around 0. It is shwoing heteroscedasticity because it spread out and it is spreading uneven. No clear trend but however, there are more extreme positive residuals (up to 60) than the negative ones (down to -20). Based on this dense concentration of points around zero, it could have good model fit with significant."
   ]
  },
  {
   "cell_type": "markdown",
   "metadata": {},
   "source": [
    "Will regress without two predictors, Time_of_Day and Vehicle_Type as these are not prone to Time Delivery.\n",
    "\n"
   ]
  },
  {
   "cell_type": "code",
   "execution_count": 66,
   "metadata": {
    "vscode": {
     "languageId": "r"
    }
   },
   "outputs": [
    {
     "data": {
      "text/plain": [
       "\n",
       "Call:\n",
       "lm(formula = Time_Delivery ~ Distance_km + Weather + Traffic_Level + \n",
       "    Preparation_Time_min + Courier_Experience_yrs, data = data)\n",
       "\n",
       "Residuals:\n",
       "    Min      1Q  Median      3Q     Max \n",
       "-26.720  -6.250  -0.792   4.284  65.769 \n",
       "\n",
       "Coefficients:\n",
       "                        Estimate Std. Error t value Pr(>|t|)    \n",
       "(Intercept)             8.148859   1.681848   4.845 1.47e-06 ***\n",
       "Distance_km             0.076484   0.001621  47.171  < 2e-16 ***\n",
       "Weather                 1.194333   0.217886   5.481 5.39e-08 ***\n",
       "Traffic_Level          -1.732633   0.447088  -3.875 0.000114 ***\n",
       "Preparation_Time_min    0.957783   0.049894  19.196  < 2e-16 ***\n",
       "Courier_Experience_yrs -0.598697   0.123395  -4.852 1.43e-06 ***\n",
       "---\n",
       "Signif. codes:  0 '***' 0.001 '**' 0.01 '*' 0.05 '.' 0.1 ' ' 1\n",
       "\n",
       "Residual standard error: 11.17 on 964 degrees of freedom\n",
       "Multiple R-squared:  0.7351,\tAdjusted R-squared:  0.7337 \n",
       "F-statistic:   535 on 5 and 964 DF,  p-value: < 2.2e-16\n"
      ]
     },
     "metadata": {},
     "output_type": "display_data"
    }
   ],
   "source": [
    "# Regress without time of day, and vehicle type as plan to regress who are less likely to prone to time delivery\n",
    "model_test2 <- lm(Time_Delivery ~ Distance_km + Weather + Traffic_Level + Preparation_Time_min + Courier_Experience_yrs, data = data)\n",
    "summary(model_test2)"
   ]
  },
  {
   "cell_type": "markdown",
   "metadata": {},
   "source": [
    "Regress Equation:\n",
    "\n",
    "Time_Delivery = 𝜷𝟎+ 𝜷𝟏(Distance_km) + 𝜷𝟐\n",
    "(Weather) + 𝜷𝟑(Traffic_Level) + 𝜷𝟒\n",
    "(Preparation_Time_min) +\n",
    "𝜷𝟓(Courier_Experience_yrs)"
   ]
  },
  {
   "cell_type": "markdown",
   "metadata": {},
   "source": [
    "Based on this model, it showing better at capturing variance in the data. RSE = 11.17, R-Squared = 0.7351, Adjusted R-Squared = 0.7337. For the F-Test = 535 and the p-value < 2.2e -16 shows stronger significance due to higher F-Statistic. Degrees of Freedom have 5 Predictors and Intercept."
   ]
  },
  {
   "cell_type": "code",
   "execution_count": 67,
   "metadata": {
    "vscode": {
     "languageId": "r"
    }
   },
   "outputs": [
    {
     "data": {
      "text/html": [
       "<table class=\"dataframe\">\n",
       "<caption>A matrix: 6 × 2 of type dbl</caption>\n",
       "<thead>\n",
       "\t<tr><th></th><th scope=col>2.5 %</th><th scope=col>97.5 %</th></tr>\n",
       "</thead>\n",
       "<tbody>\n",
       "\t<tr><th scope=row>(Intercept)</th><td> 4.84835453</td><td>11.44936443</td></tr>\n",
       "\t<tr><th scope=row>Distance_km</th><td> 0.07330252</td><td> 0.07966641</td></tr>\n",
       "\t<tr><th scope=row>Weather</th><td> 0.76674847</td><td> 1.62191774</td></tr>\n",
       "\t<tr><th scope=row>Traffic_Level</th><td>-2.61001103</td><td>-0.85525414</td></tr>\n",
       "\t<tr><th scope=row>Preparation_Time_min</th><td> 0.85986934</td><td> 1.05569750</td></tr>\n",
       "\t<tr><th scope=row>Courier_Experience_yrs</th><td>-0.84085102</td><td>-0.35654291</td></tr>\n",
       "</tbody>\n",
       "</table>\n"
      ],
      "text/latex": [
       "A matrix: 6 × 2 of type dbl\n",
       "\\begin{tabular}{r|ll}\n",
       "  & 2.5 \\% & 97.5 \\%\\\\\n",
       "\\hline\n",
       "\t(Intercept) &  4.84835453 & 11.44936443\\\\\n",
       "\tDistance\\_km &  0.07330252 &  0.07966641\\\\\n",
       "\tWeather &  0.76674847 &  1.62191774\\\\\n",
       "\tTraffic\\_Level & -2.61001103 & -0.85525414\\\\\n",
       "\tPreparation\\_Time\\_min &  0.85986934 &  1.05569750\\\\\n",
       "\tCourier\\_Experience\\_yrs & -0.84085102 & -0.35654291\\\\\n",
       "\\end{tabular}\n"
      ],
      "text/markdown": [
       "\n",
       "A matrix: 6 × 2 of type dbl\n",
       "\n",
       "| <!--/--> | 2.5 % | 97.5 % |\n",
       "|---|---|---|\n",
       "| (Intercept) |  4.84835453 | 11.44936443 |\n",
       "| Distance_km |  0.07330252 |  0.07966641 |\n",
       "| Weather |  0.76674847 |  1.62191774 |\n",
       "| Traffic_Level | -2.61001103 | -0.85525414 |\n",
       "| Preparation_Time_min |  0.85986934 |  1.05569750 |\n",
       "| Courier_Experience_yrs | -0.84085102 | -0.35654291 |\n",
       "\n"
      ],
      "text/plain": [
       "                       2.5 %       97.5 %     \n",
       "(Intercept)             4.84835453 11.44936443\n",
       "Distance_km             0.07330252  0.07966641\n",
       "Weather                 0.76674847  1.62191774\n",
       "Traffic_Level          -2.61001103 -0.85525414\n",
       "Preparation_Time_min    0.85986934  1.05569750\n",
       "Courier_Experience_yrs -0.84085102 -0.35654291"
      ]
     },
     "metadata": {},
     "output_type": "display_data"
    }
   ],
   "source": [
    "conf_intervals2 <- confint(model_test2, level = 0.95)\n",
    "conf_intervals2\n",
    "\n",
    "#Interpret the 95% Confidence Intervals for Regression Part Two"
   ]
  },
  {
   "cell_type": "markdown",
   "metadata": {},
   "source": [
    "Based on this 95% Confidence Interval, looks like all the predictors are provely significant because of more prone to Time Delivery."
   ]
  },
  {
   "cell_type": "code",
   "execution_count": 68,
   "metadata": {
    "vscode": {
     "languageId": "r"
    }
   },
   "outputs": [
    {
     "data": {
      "text/plain": [
       "NULL"
      ]
     },
     "metadata": {},
     "output_type": "display_data"
    },
    {
     "data": {
      "image/png": "[encoded data removed]",
      "text/plain": [
       "plot without title"
      ]
     },
     "metadata": {
      "image/png": {
       "height": 420,
       "width": 420
      }
     },
     "output_type": "display_data"
    }
   ],
   "source": [
    "(plot(model_test2$residuals))\n",
    "# Showing the Regression Part Two for Residuals"
   ]
  },
  {
   "cell_type": "markdown",
   "metadata": {},
   "source": [
    "After I removed two predictors who are not significant to the Time Delivery, it is shwoing identical to the Regression Part One."
   ]
  }
 ],
 "metadata": {
  "kernelspec": {
   "display_name": "R",
   "language": "R",
   "name": "ir"
  },
  "language_info": {
   "codemirror_mode": "r",
   "file_extension": ".r",
   "mimetype": "text/x-r-source",
   "name": "R",
   "pygments_lexer": "r",
   "version": "4.4.2"
  }
 },
 "nbformat": 4,
 "nbformat_minor": 2
}
